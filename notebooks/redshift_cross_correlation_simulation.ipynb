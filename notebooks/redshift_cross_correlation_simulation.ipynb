{
 "cells": [
  {
   "cell_type": "code",
   "execution_count": 4,
   "id": "407a1708",
   "metadata": {},
   "outputs": [],
   "source": [
    "import sys\n",
    "sys.path.append('../src')\n",
    "\n",
    "import redshift_cross_correlation as mrc\n",
    "import redshift_cc_sdss as crs"
   ]
  },
  {
   "cell_type": "code",
   "execution_count": 5,
   "id": "4b9be0ee",
   "metadata": {},
   "outputs": [
    {
     "name": "stdout",
     "output_type": "stream",
     "text": [
      "plate  mjd  fiberID\n",
      "----- ----- -------\n",
      " 1648 53171     112\n",
      "10254 58514       9\n",
      "  830 52293     376\n",
      " 2150 54510     627\n",
      " 5976 56356     737\n",
      " 1962 53321     168\n",
      " 2925 54584     401\n",
      " 6054 56089     126\n",
      " 2271 53726     418\n",
      "  338 51694     415\n"
     ]
    }
   ],
   "source": [
    "from astroquery.sdss import SDSS\n",
    "from astropy.table import Table\n",
    "\n",
    "query = \"\"\"\n",
    "SELECT TOP 100 plate, mjd, fiberID\n",
    "FROM SpecObj\n",
    "WHERE class IN ('GALAXY', 'QSO', 'STAR')\n",
    "AND zWarning = 0\n",
    "ORDER BY NEWID()  -- randomize results\n",
    "\"\"\"\n",
    "\n",
    "results = SDSS.query_sql(query)\n",
    "\n",
    "print(results[:10])\n"
   ]
  },
  {
   "cell_type": "code",
   "execution_count": 6,
   "id": "fc40df4b",
   "metadata": {},
   "outputs": [
    {
     "name": "stdout",
     "output_type": "stream",
     "text": [
      "\n",
      ">> Best overall match: Template 026 with z = 0.08600, score = 6179.820\n",
      "The error percentage of spectra plate=1648, mjd=53171, fiberID=112 with redshift 0.08615857362747192 is -0.1840485755457715\n",
      "\n",
      "\n",
      ">> Best overall match: Template 006 with z = 0.00050, score = 4035.787\n",
      "The error percentage of spectra plate=10254, mjd=58514, fiberID=9 with redshift 7.939134775369894e-06 is 6197.91550524099\n",
      "\n",
      "\n",
      ">> Best overall match: Template 025 with z = 0.15850, score = 5389.861\n",
      "The error percentage of spectra plate=830, mjd=52293, fiberID=376 with redshift 0.15848828852176666 is 0.00738949126309163\n",
      "\n",
      "\n",
      ">> Best overall match: Template 006 with z = 0.00050, score = 4247.143\n",
      "The error percentage of spectra plate=2150, mjd=54510, fiberID=627 with redshift -0.00023919905652292073 is -309.0309248155787\n",
      "\n",
      "\n",
      ">> Best overall match: Template 028 with z = 0.45800, score = 3380.771\n",
      "The error percentage of spectra plate=5976, mjd=56356, fiberID=737 with redshift 0.45700693130493164 is 0.21729838806448823\n",
      "\n",
      "\n",
      ">> Best overall match: Template 023 with z = 0.00050, score = 2626.645\n",
      "The error percentage of spectra plate=1962, mjd=53321, fiberID=168 with redshift -0.0007743980968371034 is -164.5662743803432\n",
      "\n",
      "\n",
      ">> Best overall match: Template 010 with z = 0.00050, score = 5076.349\n",
      "The error percentage of spectra plate=2925, mjd=54584, fiberID=401 with redshift -6.980037142056972e-05 is -816.3285664876179\n",
      "\n",
      "\n",
      ">> Best overall match: Template 028 with z = 0.28800, score = 3760.611\n",
      "The error percentage of spectra plate=6054, mjd=56089, fiberID=126 with redshift 0.2873198986053467 is 0.23670528841010585\n",
      "\n",
      "\n",
      ">> Best overall match: Template 029 with z = 1.34000, score = 4230.192\n",
      "The error percentage of spectra plate=2271, mjd=53726, fiberID=418 with redshift 1.34139883518219 is -0.10428182472662192\n",
      "\n",
      "\n",
      ">> Best overall match: Template 023 with z = 0.05800, score = 5608.567\n",
      "The error percentage of spectra plate=338, mjd=51694, fiberID=415 with redshift 0.057913750410079956 is 0.14892765415695655\n",
      "\n",
      "\n",
      ">> Best overall match: Template 011 with z = 0.00500, score = 3146.513\n",
      "The error percentage of spectra plate=3692, mjd=55186, fiberID=411 with redshift 0.6298590302467346 is -99.20617157810037\n",
      "\n",
      "\n",
      ">> Best overall match: Template 023 with z = 0.09450, score = 4637.152\n",
      "The error percentage of spectra plate=2578, mjd=54093, fiberID=157 with redshift 0.09441564977169037 is 0.08933924462057097\n",
      "\n",
      "\n",
      ">> Best overall match: Template 028 with z = 0.59200, score = 3179.115\n",
      "The error percentage of spectra plate=4610, mjd=55621, fiberID=675 with redshift 0.5912505984306335 is 0.12674855152043957\n",
      "\n",
      "\n",
      ">> Best overall match: Template 028 with z = 0.56400, score = 3271.131\n",
      "The error percentage of spectra plate=6263, mjd=56279, fiberID=585 with redshift 0.5646562576293945 is -0.11622250183668013\n",
      "\n",
      "\n",
      ">> Best overall match: Template 028 with z = 0.54000, score = 3444.881\n",
      "The error percentage of spectra plate=4718, mjd=56014, fiberID=449 with redshift 0.5404025912284851 is -0.07449838972267846\n",
      "\n",
      "\n",
      ">> Best overall match: Template 006 with z = 0.00050, score = 3647.702\n",
      "The error percentage of spectra plate=3208, mjd=54853, fiberID=637 with redshift -0.0007975114276632667 is -162.69502638539183\n",
      "\n",
      "No spectrum found.\n"
     ]
    },
    {
     "name": "stderr",
     "output_type": "stream",
     "text": [
      "WARNING: NoResultsWarning: Query returned no results. [astroquery.sdss.core]\n"
     ]
    },
    {
     "ename": "TypeError",
     "evalue": "cannot unpack non-iterable NoneType object",
     "output_type": "error",
     "traceback": [
      "\u001b[31m---------------------------------------------------------------------------\u001b[39m",
      "\u001b[31mTypeError\u001b[39m                                 Traceback (most recent call last)",
      "\u001b[36mCell\u001b[39m\u001b[36m \u001b[39m\u001b[32mIn[6]\u001b[39m\u001b[32m, line 5\u001b[39m\n\u001b[32m      2\u001b[39m triplets = \u001b[38;5;28mlist\u001b[39m(\u001b[38;5;28mzip\u001b[39m(results[\u001b[33m'\u001b[39m\u001b[33mplate\u001b[39m\u001b[33m'\u001b[39m], results[\u001b[33m'\u001b[39m\u001b[33mmjd\u001b[39m\u001b[33m'\u001b[39m], results[\u001b[33m'\u001b[39m\u001b[33mfiberID\u001b[39m\u001b[33m'\u001b[39m]))\n\u001b[32m      4\u001b[39m \u001b[38;5;28;01mfor\u001b[39;00m plate, mjd, fiber \u001b[38;5;129;01min\u001b[39;00m triplets:\n\u001b[32m----> \u001b[39m\u001b[32m5\u001b[39m     flux, wavelength, true_z = crs.get_spectrum(plate=plate, mjd=mjd, fiberID=fiber)\n\u001b[32m      6\u001b[39m     best_temp , z, score = mrc.cross_correlate_redshift(wavelength, flux, template_spectra)\n\u001b[32m      7\u001b[39m     \u001b[38;5;28mprint\u001b[39m(\u001b[33mf\u001b[39m\u001b[33m\"\u001b[39m\u001b[33mThe error percentage of spectra plate=\u001b[39m\u001b[38;5;132;01m{\u001b[39;00mplate\u001b[38;5;132;01m}\u001b[39;00m\u001b[33m, mjd=\u001b[39m\u001b[38;5;132;01m{\u001b[39;00mmjd\u001b[38;5;132;01m}\u001b[39;00m\u001b[33m, fiberID=\u001b[39m\u001b[38;5;132;01m{\u001b[39;00mfiber\u001b[38;5;132;01m}\u001b[39;00m\u001b[33m with redshift \u001b[39m\u001b[38;5;132;01m{\u001b[39;00mtrue_z\u001b[38;5;132;01m}\u001b[39;00m\u001b[33m is \u001b[39m\u001b[38;5;132;01m{\u001b[39;00m(z-true_z)/true_z\u001b[38;5;250m \u001b[39m*\u001b[38;5;250m \u001b[39m\u001b[32m100\u001b[39m\u001b[38;5;132;01m}\u001b[39;00m\u001b[38;5;130;01m\\n\u001b[39;00m\u001b[33m\"\u001b[39m)\n",
      "\u001b[31mTypeError\u001b[39m: cannot unpack non-iterable NoneType object"
     ]
    }
   ],
   "source": [
    "template_spectra = crs.get_template_spectra('ALL')\n",
    "triplets = list(zip(results['plate'], results['mjd'], results['fiberID']))\n",
    "\n",
    "for plate, mjd, fiber in triplets:\n",
    "    flux, wavelength, true_z = crs.get_spectrum(plate=plate, mjd=mjd, fiberID=fiber)\n",
    "    best_temp , z, score = mrc.cross_correlate_redshift(wavelength, flux, template_spectra)\n",
    "    print(f\"The error percentage of spectra plate={plate}, mjd={mjd}, fiberID={fiber} with redshift {true_z} is {(z-true_z)/true_z * 100}\\n\")\n"
   ]
  }
 ],
 "metadata": {
  "kernelspec": {
   "display_name": "myvenv",
   "language": "python",
   "name": "python3"
  },
  "language_info": {
   "codemirror_mode": {
    "name": "ipython",
    "version": 3
   },
   "file_extension": ".py",
   "mimetype": "text/x-python",
   "name": "python",
   "nbconvert_exporter": "python",
   "pygments_lexer": "ipython3",
   "version": "3.13.5"
  }
 },
 "nbformat": 4,
 "nbformat_minor": 5
}
